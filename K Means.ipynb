{
 "cells": [
  {
   "cell_type": "markdown",
   "metadata": {},
   "source": [
    "## Basic K-Means Algorithm Example Code"
   ]
  },
  {
   "cell_type": "code",
   "execution_count": 1,
   "metadata": {},
   "outputs": [],
   "source": [
    "import matplotlib.pyplot as plt\n",
    "import random"
   ]
  },
  {
   "cell_type": "code",
   "execution_count": 2,
   "metadata": {},
   "outputs": [],
   "source": [
    "def generate_random_data_points(n):\n",
    "    # n data points list with coordinates in format [[x,y],[a,b],[p,q]]\n",
    "    return [[random.randrange(0,50),random.randrange(0,50)] for i in range(n)]\n"
   ]
  },
  {
   "cell_type": "code",
   "execution_count": 3,
   "metadata": {},
   "outputs": [],
   "source": [
    "# Map data points to its nearest Centroid and form clusters\n",
    "def find_closest_centroid(data_points,centroids):\n",
    "    data_points_centroid_mapping = []\n",
    "    for x1,y1 in data_points:\n",
    "        min_dist=float('Inf')\n",
    "        index=-1\n",
    "        for i in range(len(centroids)):\n",
    "            x2,y2=centroids[i][0],centroids[i][1]\n",
    "            #Euclidian Distance between two points = square_root( square(x2-x1) + square(y2-y1) )\n",
    "            dist = pow(( pow((x2-x1),2) + pow((y2-y1),2) ) ,0.5)\n",
    "            if dist<min_dist:\n",
    "                min_dist=dist\n",
    "                index=i\n",
    "        data_points_centroid_mapping.append(index)\n",
    "\n",
    "    return data_points_centroid_mapping"
   ]
  },
  {
   "cell_type": "code",
   "execution_count": 4,
   "metadata": {},
   "outputs": [],
   "source": [
    "# Find Mean Of Clusters and Return New Centroid Points\n",
    "def mean_of_cluster(data_points,data_points_centroid_mapping,K):\n",
    "    new_centroids =[]\n",
    "    for i in range(K):\n",
    "        X=[]\n",
    "        Y=[]\n",
    "        for index in range(len(data_points_centroid_mapping)):\n",
    "            if data_points_centroid_mapping[index] == i:\n",
    "                X.append(data_points[index][0])\n",
    "                Y.append(data_points[index][1])\n",
    "\n",
    "        new_centroid = [sum(X)/len(X),sum(Y)/len(X)]        \n",
    "        new_centroids.append(new_centroid)        \n",
    "    return new_centroids"
   ]
  },
  {
   "cell_type": "code",
   "execution_count": 5,
   "metadata": {},
   "outputs": [
    {
     "name": "stdout",
     "output_type": "stream",
     "text": [
      "Enter Number of Data Points (N) : 30\n",
      "Enter Number of Clusters (K) : 4\n",
      "Enter Number of Maximum Iterations to Run (I) : 50\n"
     ]
    }
   ],
   "source": [
    "N=int(input(\"Enter Number of Data Points (N) : \"))\n",
    "K=int(input(\"Enter Number of Clusters (K) : \"))\n",
    "I=int(input(\"Enter Number of Maximum Iterations to Run (I) : \"))"
   ]
  },
  {
   "cell_type": "code",
   "execution_count": 6,
   "metadata": {},
   "outputs": [],
   "source": [
    "data_points = generate_random_data_points(N)\n",
    "centroids   = generate_random_data_points(K)\n",
    "closet_centroids=[None]*N"
   ]
  },
  {
   "cell_type": "code",
   "execution_count": 7,
   "metadata": {},
   "outputs": [
    {
     "data": {
      "text/plain": [
       "[<matplotlib.lines.Line2D at 0x2d00960f390>]"
      ]
     },
     "execution_count": 7,
     "metadata": {},
     "output_type": "execute_result"
    },
    {
     "data": {
      "image/png": "[encoded data removed]",
      "text/plain": [
       "<Figure size 432x288 with 1 Axes>"
      ]
     },
     "metadata": {
      "needs_background": "light"
     },
     "output_type": "display_data"
    }
   ],
   "source": [
    "#print(data_points)\n",
    "#print(centroids)\n",
    "#print(closet_centroids)\n",
    "\n",
    "plt.plot([x[0] for x in data_points],[x[1] for x in data_points],'bo')\n",
    "plt.plot([x[0] for x in centroids],[x[1] for x in centroids],'rx')\n"
   ]
  },
  {
   "cell_type": "code",
   "execution_count": 8,
   "metadata": {},
   "outputs": [],
   "source": [
    "while(I>0):\n",
    "    I-=1\n",
    "    new_closet_centroids = find_closest_centroid(data_points,centroids)\n",
    "    if closet_centroids == new_closet_centroids:\n",
    "        break\n",
    "    else:\n",
    "        closet_centroids = new_closet_centroids\n",
    "        centroids = mean_of_cluster(data_points,closet_centroids,K)"
   ]
  },
  {
   "cell_type": "code",
   "execution_count": 9,
   "metadata": {},
   "outputs": [
    {
     "data": {
      "text/plain": [
       "[<matplotlib.lines.Line2D at 0x2d00999d940>]"
      ]
     },
     "execution_count": 9,
     "metadata": {},
     "output_type": "execute_result"
    },
    {
     "data": {
      "image/png": "[encoded data removed]",
      "text/plain": [
       "<Figure size 432x288 with 1 Axes>"
      ]
     },
     "metadata": {
      "needs_background": "light"
     },
     "output_type": "display_data"
    }
   ],
   "source": [
    "c=['yo','bo','go','co']\n",
    "for i in range(N):\n",
    "    plt.plot(data_points[i][0],data_points[i][1],c[closet_centroids[i]])\n",
    "plt.plot([x[0] for x in centroids],[x[1] for x in centroids],'rX')    "
   ]
  }
 ],
 "metadata": {
  "kernelspec": {
   "display_name": "Python 3",
   "language": "python",
   "name": "python3"
  },
  "language_info": {
   "codemirror_mode": {
    "name": "ipython",
    "version": 3
   },
   "file_extension": ".py",
   "mimetype": "text/x-python",
   "name": "python",
   "nbconvert_exporter": "python",
   "pygments_lexer": "ipython3",
   "version": "3.7.1"
  }
 },
 "nbformat": 4,
 "nbformat_minor": 2
}
